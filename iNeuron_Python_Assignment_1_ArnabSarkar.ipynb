{
  "nbformat": 4,
  "nbformat_minor": 0,
  "metadata": {
    "colab": {
      "name": "Python_Assignment_1.ipynb",
      "provenance": [],
      "collapsed_sections": []
    },
    "kernelspec": {
      "name": "python3",
      "display_name": "Python 3"
    }
  },
  "cells": [
    {
      "cell_type": "markdown",
      "metadata": {
        "id": "nH5eGqqskMLu"
      },
      "source": [
        "Q-1 "
      ]
    },
    {
      "cell_type": "code",
      "metadata": {
        "id": "O4s_1f6ehhPo",
        "outputId": "30928e0f-32a5-41f8-be96-cf07e9954c05",
        "colab": {
          "base_uri": "https://localhost:8080/",
          "height": 53
        }
      },
      "source": [
        "start_num=2000\n",
        "end_num=3201\n",
        "num_list=[]\n",
        "for i in range (start_num,end_num,1):\n",
        "  if i%7==0 and i%5!=0:\n",
        "    num_list.append(i)\n",
        "\n",
        "print(num_list)"
      ],
      "execution_count": 2,
      "outputs": [
        {
          "output_type": "stream",
          "text": [
            "[2002, 2009, 2016, 2023, 2037, 2044, 2051, 2058, 2072, 2079, 2086, 2093, 2107, 2114, 2121, 2128, 2142, 2149, 2156, 2163, 2177, 2184, 2191, 2198, 2212, 2219, 2226, 2233, 2247, 2254, 2261, 2268, 2282, 2289, 2296, 2303, 2317, 2324, 2331, 2338, 2352, 2359, 2366, 2373, 2387, 2394, 2401, 2408, 2422, 2429, 2436, 2443, 2457, 2464, 2471, 2478, 2492, 2499, 2506, 2513, 2527, 2534, 2541, 2548, 2562, 2569, 2576, 2583, 2597, 2604, 2611, 2618, 2632, 2639, 2646, 2653, 2667, 2674, 2681, 2688, 2702, 2709, 2716, 2723, 2737, 2744, 2751, 2758, 2772, 2779, 2786, 2793, 2807, 2814, 2821, 2828, 2842, 2849, 2856, 2863, 2877, 2884, 2891, 2898, 2912, 2919, 2926, 2933, 2947, 2954, 2961, 2968, 2982, 2989, 2996, 3003, 3017, 3024, 3031, 3038, 3052, 3059, 3066, 3073, 3087, 3094, 3101, 3108, 3122, 3129, 3136, 3143, 3157, 3164, 3171, 3178, 3192, 3199]\n"
          ],
          "name": "stdout"
        }
      ]
    },
    {
      "cell_type": "markdown",
      "metadata": {
        "id": "lWY7pldkkQVt"
      },
      "source": [
        "Q-2"
      ]
    },
    {
      "cell_type": "code",
      "metadata": {
        "id": "ApP5-UBgkLkn",
        "outputId": "11cc94f3-4b0e-40c9-87b3-fa5d73de2de3",
        "colab": {
          "base_uri": "https://localhost:8080/",
          "height": 67
        }
      },
      "source": [
        "first_name= input(\"what's your first name ? \")\n",
        "last_name = input ( \"what's your last name ?\")\n",
        "\n",
        "print(last_name+' '+first_name)"
      ],
      "execution_count": 3,
      "outputs": [
        {
          "output_type": "stream",
          "text": [
            "what's your first name ? arnab\n",
            "what's your last name ?sarkar\n",
            "sarkar arnab\n"
          ],
          "name": "stdout"
        }
      ]
    },
    {
      "cell_type": "markdown",
      "metadata": {
        "id": "65GLH0X7ko3T"
      },
      "source": [
        "Q-3"
      ]
    },
    {
      "cell_type": "code",
      "metadata": {
        "id": "GYnkJjvxkpCb",
        "outputId": "caa6ac85-bd92-474f-cec9-cc0d62217b59",
        "colab": {
          "base_uri": "https://localhost:8080/",
          "height": 33
        }
      },
      "source": [
        "radius= 12\n",
        "vol= (4/3)*3.14*((radius)**3)\n",
        "print(vol)"
      ],
      "execution_count": 4,
      "outputs": [
        {
          "output_type": "stream",
          "text": [
            "7234.5599999999995\n"
          ],
          "name": "stdout"
        }
      ]
    }
  ]
}